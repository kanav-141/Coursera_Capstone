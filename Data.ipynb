{
    "cells": [
        {
            "metadata": {
                "collapsed": true
            },
            "cell_type": "markdown",
            "source": "# Data"
        },
        {
            "metadata": {},
            "cell_type": "markdown",
            "source": "In order to help create our machine learning algorithm, we will be using the \"Data-Collisions.csv\" file. In this dataset, our dependent variable is \"SEVERITYCODE\", which measures the potential severity of an accident, with 0 being the least severe and 4 being the most severe. We will be using only a few of the columns as the independent variables in our model, namely the ones for weather, road conditions and daylight levels. After cleaning the dataset (which will involve converting data types, balancing and removing unnecessary columns), we will be ready for modelling."
        }
    ],
    "metadata": {
        "kernelspec": {
            "name": "python3",
            "display_name": "Python 3.6",
            "language": "python"
        },
        "language_info": {
            "name": "python",
            "version": "3.6.9",
            "mimetype": "text/x-python",
            "codemirror_mode": {
                "name": "ipython",
                "version": 3
            },
            "pygments_lexer": "ipython3",
            "nbconvert_exporter": "python",
            "file_extension": ".py"
        }
    },
    "nbformat": 4,
    "nbformat_minor": 1
}