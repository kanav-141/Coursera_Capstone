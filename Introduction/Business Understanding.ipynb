{
    "cells": [
        {
            "metadata": {
                "collapsed": true
            },
            "cell_type": "markdown",
            "source": "# Introduction/Business Understanding"
        },
        {
            "metadata": {},
            "cell_type": "markdown",
            "source": "Road traffic collisions (RTCs) are a big problem for society globally. They cause delays in transport and in many cases lead to injuries and deaths. Governments and their citizens can benefit from a technology that can predict the likely severity of a potential accident given certain parameters (e.g weather). Therefore, when certain conditions conducive to severe accidents present themselves, road users can adjust their behaviours to minimize the risk of a severe collision. This could lead to less severe road accidents, which would benefit society as a whole."
        }
    ],
    "metadata": {
        "kernelspec": {
            "name": "python3",
            "display_name": "Python 3.6",
            "language": "python"
        },
        "language_info": {
            "name": "python",
            "version": "3.6.9",
            "mimetype": "text/x-python",
            "codemirror_mode": {
                "name": "ipython",
                "version": 3
            },
            "pygments_lexer": "ipython3",
            "nbconvert_exporter": "python",
            "file_extension": ".py"
        }
    },
    "nbformat": 4,
    "nbformat_minor": 1
}